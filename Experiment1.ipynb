{
  "nbformat": 4,
  "nbformat_minor": 0,
  "metadata": {
    "colab": {
      "provenance": [],
      "authorship_tag": "ABX9TyOw0YOsafeNQuoZ7NY8L7M7",
      "include_colab_link": true
    },
    "kernelspec": {
      "name": "python3",
      "display_name": "Python 3"
    },
    "language_info": {
      "name": "python"
    }
  },
  "cells": [
    {
      "cell_type": "markdown",
      "metadata": {
        "id": "view-in-github",
        "colab_type": "text"
      },
      "source": [
        "<a href=\"https://colab.research.google.com/github/PratikshaYelpale/Pratiksha-Yelpale/blob/main/Experiment1.ipynb\" target=\"_parent\"><img src=\"https://colab.research.google.com/assets/colab-badge.svg\" alt=\"Open In Colab\"/></a>"
      ]
    },
    {
      "cell_type": "code",
      "execution_count": 4,
      "metadata": {
        "colab": {
          "base_uri": "https://localhost:8080/"
        },
        "id": "PBEyvU_2X5tL",
        "outputId": "09c1a7e9-3aa3-4de6-86bf-6f015d0b4f29"
      },
      "outputs": [
        {
          "output_type": "stream",
          "name": "stdout",
          "text": [
            "Enter radius of a circle:2.4\n",
            "Area of a circle= 18.086399999999998\n"
          ]
        }
      ],
      "source": [
        "PI=3.14\n",
        "r=float(input(\"Enter radius of a circle:\"))\n",
        "area=PI*r*r\n",
        "print(\"Area of a circle=\",area)"
      ]
    }
  ]
}